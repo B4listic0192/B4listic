{
 "cells": [
  {
   "cell_type": "code",
   "execution_count": 16,
   "metadata": {},
   "outputs": [
    {
     "name": "stdout",
     "output_type": "stream",
     "text": [
      "what is the capital of France? Paris\n",
      "you're right and you now have 1 points\n",
      "what is the capital of England? London\n",
      "you're right and you now have 2 points\n",
      "what is the capital of Germany? Berlin\n",
      "you're right and you now have 3 points\n",
      "what is the capital of RussiaMadrid\n",
      "you are wrong the correct answer was Moscow\n",
      "what is the capital of SpainMadrid\n",
      "you're right and you now have 4 points\n",
      "you got 4 out of 5\n"
     ]
    }
   ],
   "source": [
    "questions = [\"what is the capital of France? \",\"what is the capital of England? \", \"what is the capital of Germany? \",\"what is the capital of Russia? \",\"what is the capital of Spain? \"]\n",
    "answers = [\"Paris\",\"London\",\"Berlin\",\"Moscow\",\"Madrid\"]\n",
    "\n",
    "def ask(score = 0, instance = 0):\n",
    "    if instance < len(questions):\n",
    "        user_input = str(input(questions[instance]))\n",
    "        \n",
    "        if user_input == answers[instance]:\n",
    "            print(\"you're right and you now have %s points\" %(str(score +1)))\n",
    "            ask(score = score + 1, instance = instance + 1)\n",
    "            \n",
    "        else:\n",
    "            print(\"you are wrong the correct answer was %s\" %(answers[instance]))\n",
    "            ask(score, instance = instance + 1)\n",
    "            \n",
    "    else:\n",
    "        print(\"you got\", score, \"out of\", len(questions))\n",
    "\n",
    "ask()"
   ]
  },
  {
   "cell_type": "code",
   "execution_count": null,
   "metadata": {},
   "outputs": [],
   "source": []
  }
 ],
 "metadata": {
  "kernelspec": {
   "display_name": "Python 3",
   "language": "python",
   "name": "python3"
  },
  "language_info": {
   "codemirror_mode": {
    "name": "ipython",
    "version": 3
   },
   "file_extension": ".py",
   "mimetype": "text/x-python",
   "name": "python",
   "nbconvert_exporter": "python",
   "pygments_lexer": "ipython3",
   "version": "3.7.4"
  }
 },
 "nbformat": 4,
 "nbformat_minor": 2
}
